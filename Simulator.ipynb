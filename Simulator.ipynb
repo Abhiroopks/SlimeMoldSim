{
 "cells": [
  {
   "cell_type": "code",
   "execution_count": null,
   "id": "e524f174",
   "metadata": {},
   "outputs": [],
   "source": [
    "import numpy as np\n",
    "import networkx as nx\n",
    "import matplotlib.pyplot as plt\n",
    "import ExampleGraphs\n",
    "import importlib\n",
    "import Drawing\n"
   ]
  },
  {
   "cell_type": "code",
   "execution_count": null,
   "id": "198cb288",
   "metadata": {},
   "outputs": [],
   "source": [
    "#importlib.reload(ExampleGraphs)\n",
    "#graph_params = ExampleGraphs.TakagakiMaze()\n",
    "\n",
    "importlib.reload(Drawing)\n",
    "graph_params = Drawing.DrawGraph().userDrawGraph()\n",
    "\n",
    "D = graph_params['D']\n",
    "L = graph_params['L']\n",
    "pos = graph_params['pos']\n",
    "\n",
    "graph = nx.from_numpy_matrix(D)"
   ]
  },
  {
   "cell_type": "code",
   "execution_count": null,
   "id": "a28f13b1",
   "metadata": {},
   "outputs": [],
   "source": [
    "N = len(L)\n",
    "src = 0\n",
    "sink = 3\n",
    "\n",
    "for rounds in range(50):\n",
    "    \n",
    "    \n",
    "    if(rounds % 5 == 0):\n",
    "        # Update nx graph edges for visualization\n",
    "        for i in range(N):\n",
    "            for j in range(i, N):\n",
    "                if(D[i][j] != 0):\n",
    "                    graph[i][j]['weight'] = D[i][j]\n",
    "        weights = [graph[u][v]['weight'] for u,v in graph.edges()]\n",
    "\n",
    "        plt.figure()\n",
    "        nx.draw(graph, pos, \n",
    "                width=list(weights * 100),\n",
    "                with_labels=True,\n",
    "                node_color='lightgreen')\n",
    "    \n",
    "    # sum of currents leaving each node using KCL\n",
    "    sums = np.zeros(N)\n",
    "    sums[src] = 1\n",
    "    sums[sink] = -1\n",
    "\n",
    "    # Conductance of edges = D / L\n",
    "    cond = np.divide(D,L)\n",
    "\n",
    "    # Solve for node pressures \n",
    "\n",
    "    A = - np.copy(cond)\n",
    "\n",
    "    for i in range(N):\n",
    "        A[i][i] = np.sum(cond[i]) - cond[i][i]\n",
    "\n",
    "    # Pressure of sink node is 0\n",
    "    A[:, N-1] = 0\n",
    "\n",
    "    A_inv = np.linalg.pinv(A)\n",
    "\n",
    "    press = np.matmul(A_inv,sums)\n",
    "    #print(\"Pressures: \" + str(press))\n",
    "\n",
    "    # Update diameters using slime mold algorithm\n",
    "\n",
    "    # difference in pressure between nodes\n",
    "    dP = np.zeros((N,N))\n",
    "    for i in range(N):\n",
    "        for j in range(i, N):\n",
    "            dP[i][j] = press[i] - press[j]\n",
    "            dP[j][i] = - dP[i][j]\n",
    "\n",
    "    #print(\"dP:\" + str(dP))\n",
    "\n",
    "    # Flow through each edge\n",
    "    Q = cond * dP\n",
    "\n",
    "    # Update diameters\n",
    "    D = 0.5*( (Q*dP / (L*press[0])) + D)"
   ]
  }
 ],
 "metadata": {
  "kernelspec": {
   "display_name": "Python 3",
   "language": "python",
   "name": "python3"
  },
  "language_info": {
   "codemirror_mode": {
    "name": "ipython",
    "version": 3
   },
   "file_extension": ".py",
   "mimetype": "text/x-python",
   "name": "python",
   "nbconvert_exporter": "python",
   "pygments_lexer": "ipython3",
   "version": "3.9.1"
  }
 },
 "nbformat": 4,
 "nbformat_minor": 5
}
