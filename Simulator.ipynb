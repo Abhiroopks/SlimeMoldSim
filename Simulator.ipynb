{
 "cells": [
  {
   "cell_type": "code",
   "execution_count": 69,
   "id": "e524f174",
   "metadata": {},
   "outputs": [],
   "source": [
    "import numpy as np\n",
    "import networkx as nx\n",
    "import matplotlib.pyplot as plt\n",
    "import ExampleGraphs\n",
    "import importlib\n",
    "import Drawing\n"
   ]
  },
  {
   "cell_type": "code",
   "execution_count": 70,
   "id": "198cb288",
   "metadata": {},
   "outputs": [
    {
     "ename": "TclError",
     "evalue": "invalid command name \".!canvas\"",
     "output_type": "error",
     "traceback": [
      "\u001b[1;31m---------------------------------------------------------------------------\u001b[0m",
      "\u001b[1;31mTclError\u001b[0m                                  Traceback (most recent call last)",
      "\u001b[1;32m<ipython-input-70-2d9905706705>\u001b[0m in \u001b[0;36m<module>\u001b[1;34m\u001b[0m\n\u001b[0;32m      4\u001b[0m \u001b[1;33m\u001b[0m\u001b[0m\n\u001b[0;32m      5\u001b[0m \u001b[0mimportlib\u001b[0m\u001b[1;33m.\u001b[0m\u001b[0mreload\u001b[0m\u001b[1;33m(\u001b[0m\u001b[0mDrawing\u001b[0m\u001b[1;33m)\u001b[0m\u001b[1;33m\u001b[0m\u001b[1;33m\u001b[0m\u001b[0m\n\u001b[1;32m----> 6\u001b[1;33m \u001b[0mgraph_params\u001b[0m \u001b[1;33m=\u001b[0m \u001b[0mDrawing\u001b[0m\u001b[1;33m.\u001b[0m\u001b[0mDrawGraph\u001b[0m\u001b[1;33m(\u001b[0m\u001b[1;33m)\u001b[0m\u001b[1;33m.\u001b[0m\u001b[0muserDrawGraph\u001b[0m\u001b[1;33m(\u001b[0m\u001b[1;33m)\u001b[0m\u001b[1;33m\u001b[0m\u001b[1;33m\u001b[0m\u001b[0m\n\u001b[0m\u001b[0;32m      7\u001b[0m \u001b[1;33m\u001b[0m\u001b[0m\n\u001b[0;32m      8\u001b[0m \u001b[0mD\u001b[0m \u001b[1;33m=\u001b[0m \u001b[0mgraph_params\u001b[0m\u001b[1;33m[\u001b[0m\u001b[1;34m'D'\u001b[0m\u001b[1;33m]\u001b[0m\u001b[1;33m\u001b[0m\u001b[1;33m\u001b[0m\u001b[0m\n",
      "\u001b[1;32m~\\Desktop\\Unconventional_Computation\\Final_Proj\\Drawing.py\u001b[0m in \u001b[0;36muserDrawGraph\u001b[1;34m(self)\u001b[0m\n\u001b[0;32m     36\u001b[0m         \u001b[1;31m# save postscipt image\u001b[0m\u001b[1;33m\u001b[0m\u001b[1;33m\u001b[0m\u001b[1;33m\u001b[0m\u001b[0m\n\u001b[0;32m     37\u001b[0m         \u001b[0mfileName\u001b[0m \u001b[1;33m=\u001b[0m \u001b[1;34m'tempImg'\u001b[0m\u001b[1;33m\u001b[0m\u001b[1;33m\u001b[0m\u001b[0m\n\u001b[1;32m---> 38\u001b[1;33m         \u001b[0mcanvas\u001b[0m\u001b[1;33m.\u001b[0m\u001b[0mpostscript\u001b[0m\u001b[1;33m(\u001b[0m\u001b[0mfile\u001b[0m \u001b[1;33m=\u001b[0m \u001b[0mfileName\u001b[0m \u001b[1;33m+\u001b[0m \u001b[1;34m'.eps'\u001b[0m\u001b[1;33m)\u001b[0m\u001b[1;33m\u001b[0m\u001b[1;33m\u001b[0m\u001b[0m\n\u001b[0m\u001b[0;32m     39\u001b[0m         \u001b[1;31m# use PIL to convert to PNG\u001b[0m\u001b[1;33m\u001b[0m\u001b[1;33m\u001b[0m\u001b[1;33m\u001b[0m\u001b[0m\n\u001b[0;32m     40\u001b[0m         \u001b[0mimg\u001b[0m \u001b[1;33m=\u001b[0m \u001b[0mImage\u001b[0m\u001b[1;33m.\u001b[0m\u001b[0mopen\u001b[0m\u001b[1;33m(\u001b[0m\u001b[0mfileName\u001b[0m \u001b[1;33m+\u001b[0m \u001b[1;34m'.eps'\u001b[0m\u001b[1;33m)\u001b[0m\u001b[1;33m\u001b[0m\u001b[1;33m\u001b[0m\u001b[0m\n",
      "\u001b[1;32mc:\\python39\\lib\\tkinter\\__init__.py\u001b[0m in \u001b[0;36mpostscript\u001b[1;34m(self, cnf, **kw)\u001b[0m\n\u001b[0;32m   2930\u001b[0m         \u001b[0mheight\u001b[0m\u001b[1;33m,\u001b[0m \u001b[0mpageanchor\u001b[0m\u001b[1;33m,\u001b[0m \u001b[0mpageheight\u001b[0m\u001b[1;33m,\u001b[0m \u001b[0mpagewidth\u001b[0m\u001b[1;33m,\u001b[0m \u001b[0mpagex\u001b[0m\u001b[1;33m,\u001b[0m \u001b[0mpagey\u001b[0m\u001b[1;33m,\u001b[0m\u001b[1;33m\u001b[0m\u001b[1;33m\u001b[0m\u001b[0m\n\u001b[0;32m   2931\u001b[0m         rotate, width, x, y.\"\"\"\n\u001b[1;32m-> 2932\u001b[1;33m         return self.tk.call((self._w, 'postscript') +\n\u001b[0m\u001b[0;32m   2933\u001b[0m                     self._options(cnf, kw))\n\u001b[0;32m   2934\u001b[0m \u001b[1;33m\u001b[0m\u001b[0m\n",
      "\u001b[1;31mTclError\u001b[0m: invalid command name \".!canvas\""
     ]
    }
   ],
   "source": [
    "#importlib.reload(ExampleGraphs)\n",
    "#graph_params = ExampleGraphs.TakagakiMaze()\n",
    "#graph_params = ExampleGraphs.exampleMaze0()\n",
    "\n",
    "importlib.reload(Drawing)\n",
    "graph_params = Drawing.DrawGraph().userDrawGraph()\n",
    "\n",
    "D = graph_params['D']\n",
    "L = graph_params['L']\n",
    "pos = graph_params['pos']\n",
    "src = graph_params['src']\n",
    "sinks = graph_params['sinks']\n",
    "\n",
    "graph = nx.from_numpy_matrix(D)\n",
    "\n",
    "N = len(L)\n",
    "\n",
    "for round in range(25):\n",
    "    if(round % 1 == 0):\n",
    "        # Update nx graph edges for visualization\n",
    "        for i in range(N):\n",
    "            for j in range(i, N):\n",
    "                if(D[i][j] != 0):\n",
    "                    graph[i][j]['weight'] = D[i][j]\n",
    "        weights = [graph[u][v]['weight'] for u,v in graph.edges()]\n",
    "\n",
    "        plt.cla()\n",
    "        #fig = plt.figure()\n",
    "        nx.draw(graph, pos, \n",
    "                width=list(weights * 100),\n",
    "                with_labels=True,\n",
    "                node_color='lightgreen')\n",
    "        \n",
    "        plt.savefig(f'images/graph{str(round).zfill(2)}.png', dpi=200)\n",
    "        \n",
    "        #fig.show()\n",
    "        \n",
    "        #plt.close(fig)\n",
    "    \n",
    "    # sum of currents leaving each node using KCL\n",
    "    sums = np.zeros(N)\n",
    "    sums[src] = 1\n",
    "    sink_flow = -1 / len(sinks)\n",
    "    \n",
    "    for sink in sinks:\n",
    "        sums[int(sink)] = sink_flow\n",
    "\n",
    "    # Conductance of edges = D / L\n",
    "    cond = np.divide(D,L)\n",
    "\n",
    "    # Solve for node pressures \n",
    "\n",
    "    A = - np.copy(cond)\n",
    "\n",
    "    for i in range(N):\n",
    "        A[i][i] = np.sum(cond[i]) - cond[i][i]\n",
    "\n",
    "    # Pressure of sink nodes is 0\n",
    "    #for sink in sinks:\n",
    "    #    A[int(sink), :] = 0\n",
    "\n",
    "    A_inv = np.linalg.pinv(A)\n",
    "\n",
    "    press = np.matmul(A_inv,sums)\n",
    "\n",
    "    # Update diameters using slime mold algorithm\n",
    "\n",
    "    # difference in pressure between nodes\n",
    "    dP = np.zeros((N,N))\n",
    "    for i in range(N):\n",
    "        for j in range(i, N):\n",
    "            dP[i][j] = press[i] - press[j]\n",
    "            dP[j][i] = - dP[i][j]\n",
    "\n",
    "    #print(\"dP:\" + str(dP))\n",
    "\n",
    "    # Flow through each edge\n",
    "    Q = cond * dP\n",
    "\n",
    "    # Update diameters\n",
    "    D = 0.5*( (Q*dP / (L*press[src])) + D)"
   ]
  },
  {
   "cell_type": "code",
   "execution_count": 66,
   "id": "00b50250",
   "metadata": {},
   "outputs": [
    {
     "name": "stdout",
     "output_type": "stream",
     "text": [
      "Successfully created MP4 video of animation\n"
     ]
    }
   ],
   "source": [
    "# Create mp4 from images\n",
    "\n",
    "import subprocess\n",
    "\n",
    "cmd = \"ffmpeg -y -framerate 2 -i images/graph%2d.png animation.mp4\"\n",
    "returned_value = subprocess.call(cmd)  # returns the exit code in unix\n",
    "if returned_value == 0:\n",
    "    print('Successfully created MP4 video of animation')\n",
    "else:\n",
    "    print('Failed to create MP4 video of Animation')"
   ]
  },
  {
   "cell_type": "code",
   "execution_count": null,
   "id": "6608b299",
   "metadata": {},
   "outputs": [],
   "source": []
  }
 ],
 "metadata": {
  "kernelspec": {
   "display_name": "Python 3",
   "language": "python",
   "name": "python3"
  },
  "language_info": {
   "codemirror_mode": {
    "name": "ipython",
    "version": 3
   },
   "file_extension": ".py",
   "mimetype": "text/x-python",
   "name": "python",
   "nbconvert_exporter": "python",
   "pygments_lexer": "ipython3",
   "version": "3.9.1"
  }
 },
 "nbformat": 4,
 "nbformat_minor": 5
}
