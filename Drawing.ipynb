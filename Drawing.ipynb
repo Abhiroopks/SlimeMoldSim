{
 "cells": [
  {
   "cell_type": "code",
   "execution_count": 30,
   "id": "0a73d227",
   "metadata": {},
   "outputs": [],
   "source": [
    "from tkinter import *\n",
    "\n",
    "root = Tk()\n",
    "canvas= Canvas(root, width=600, height=600)\n",
    "canvas.pack()\n",
    "\n",
    "\n",
    "pos = {}\n",
    "\n",
    "def leftclick(event):\n",
    "    #print(\"clicked at\", event.x, event.y)\n",
    "    \n",
    "    pos[len(pos)] = [event.x - 300, 300 - event.y]\n",
    "    \n",
    "    R = 10\n",
    "    \n",
    "    canvas.create_oval(event.x - R, event.y - R, event.x + R, event.y + R, fill='red', outline='blue')\n",
    "    \n",
    "\n",
    "coords = {\"x\":0,\"y\":0,\"x2\":0,\"y2\":0}\n",
    "# keep a reference to all lines by keeping them in a list \n",
    "lines = []\n",
    "\n",
    "def rightclick(e):\n",
    "    # define start point for line\n",
    "    coords[\"x\"] = e.x\n",
    "    coords[\"y\"] = e.y\n",
    "\n",
    "    # create a line on this point and store it in the list\n",
    "    lines.append(canvas.create_line(coords[\"x\"],coords[\"y\"],coords[\"x\"],coords[\"y\"]))\n",
    "\n",
    "def rightdrag(e):\n",
    "    # update the coordinates from the event\n",
    "    coords[\"x2\"] = e.x\n",
    "    coords[\"y2\"] = e.y\n",
    "\n",
    "    # Change the coordinates of the last created line to the new coordinates\n",
    "    canvas.coords(lines[-1], coords[\"x\"],coords[\"y\"],coords[\"x2\"],coords[\"y2\"])\n",
    "\n",
    "canvas.bind(\"<Button-3>\", rightclick)\n",
    "canvas.bind(\"<B3-Motion>\", rightdrag) \n",
    "canvas.bind(\"<Button-1>\", leftclick)\n",
    "\n",
    "\n",
    "canvas.mainloop()"
   ]
  },
  {
   "cell_type": "code",
   "execution_count": null,
   "id": "b46ed50d",
   "metadata": {},
   "outputs": [],
   "source": []
  },
  {
   "cell_type": "code",
   "execution_count": null,
   "id": "601f817d",
   "metadata": {},
   "outputs": [],
   "source": []
  }
 ],
 "metadata": {
  "kernelspec": {
   "display_name": "Python 3",
   "language": "python",
   "name": "python3"
  },
  "language_info": {
   "codemirror_mode": {
    "name": "ipython",
    "version": 3
   },
   "file_extension": ".py",
   "mimetype": "text/x-python",
   "name": "python",
   "nbconvert_exporter": "python",
   "pygments_lexer": "ipython3",
   "version": "3.9.1"
  }
 },
 "nbformat": 4,
 "nbformat_minor": 5
}
